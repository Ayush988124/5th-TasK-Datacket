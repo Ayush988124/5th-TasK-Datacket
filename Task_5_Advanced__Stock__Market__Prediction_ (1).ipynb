{
  "nbformat": 4,
  "nbformat_minor": 0,
  "metadata": {
    "colab": {
      "name": "Task 5_Advanced_ Stock_ Market_ Prediction .ipynb",
      "private_outputs": true,
      "provenance": []
    },
    "kernelspec": {
      "name": "python3",
      "display_name": "Python 3"
    },
    "language_info": {
      "name": "python"
    }
  },
  "cells": [
    {
      "cell_type": "code",
      "execution_count": null,
      "metadata": {
        "id": "Ej3GuemrMXAN"
      },
      "outputs": [],
      "source": [
        "import numpy as np\n",
        "import pandas as pd\n",
        "import matplotlib.pyplot as plt\n",
        "from keras.models import Sequential\n",
        "from keras.layers import Dense, LSTM\n",
        "import math\n",
        "from sklearn.preprocessing import MinMaxScaler\n",
        "import datetime as dt\n",
        "import pandas_datareader as web"
      ]
    },
    {
      "cell_type": "code",
      "source": [
        "data = pd.read_csv(\"/content/TATAMOTORS.NS.csv\")\n",
        "data"
      ],
      "metadata": {
        "id": "EDRgtYUWMoEK"
      },
      "execution_count": null,
      "outputs": []
    },
    {
      "cell_type": "code",
      "source": [
        "plt.figure(figsize=(10,3))\n",
        "plt.xlabel('Date', fontsize=12)\n",
        "plt.ylabel('Close', fontsize=12)\n",
        "plt.plot(data.Date, data.Close,color='red')"
      ],
      "metadata": {
        "id": "87YFDED7OyCl"
      },
      "execution_count": null,
      "outputs": []
    },
    {
      "cell_type": "code",
      "source": [
        "# 1. Filter out the closing market price data\n",
        "close_data = data.filter(['Close'])\n",
        " \n",
        "# 2. Convert the data into array for easy evaluation\n",
        "dataset = close_data.values\n",
        " \n",
        "# 2. Convert the data into array for easy evaluation\n",
        "dataset = close_data.values"
      ],
      "metadata": {
        "id": "ASWzQ4ZYMq9I"
      },
      "execution_count": null,
      "outputs": []
    },
    {
      "cell_type": "code",
      "source": [
        "model = Sequential()\n",
        "model.add(LSTM(units=50, return_sequences=True,input_shape=(x_train_data2.shape[1],1)))\n",
        "model.add(LSTM(units=50, return_sequences=False))\n",
        "model.add(Dense(units=25))\n",
        "model.add(Dense(units=1))"
      ],
      "metadata": {
        "id": "UDH4E-wUO4Bt"
      },
      "execution_count": null,
      "outputs": []
    },
    {
      "cell_type": "code",
      "source": [
        "model.compile(optimizer='adam', loss='mean_squared_error')\n",
        "model.fit(x_train_data2, y_train_data1, batch_size=1, epochs=10)\n"
      ],
      "metadata": {
        "id": "XI6-4vvDO8Gw"
      },
      "execution_count": null,
      "outputs": []
    },
    {
      "cell_type": "code",
      "source": [
        "# 1. Creating a dataset for testing\n",
        "test_data = scaled_data[training_data_len - 60: , : ]\n",
        "x_test = []\n",
        "y_test =  dataset[training_data_len : , : ]\n",
        "for i in range(60,len(test_data)):\n",
        "    x_test.append(test_data[i-60:i,0])\n",
        " \n",
        "# 2.  Convert the values into arrays for easier computation\n",
        "x_test = np.array(x_test)\n",
        "x_test = np.reshape(x_test, (x_test.shape[0],x_test.shape[1],1))\n",
        " \n",
        "# 3. Making predictions on the testing data\n",
        "predictions = model.predict(x_test)\n",
        "predictions = scaler.inverse_transform(predictions)"
      ],
      "metadata": {
        "id": "XtIryRBzPAUm"
      },
      "execution_count": null,
      "outputs": []
    },
    {
      "cell_type": "code",
      "source": [
        "train = data[:training_data_len]\n",
        "valid = data[training_data_len:]\n",
        " \n",
        "valid['Predictions'] = predictions\n",
        "plt.figure(figsize=(20,8))\n",
        "plt.title('Model')\n",
        "plt.xlabel('Date')\n",
        "plt.ylabel('Close')\n",
        " \n",
        "plt.plot(train['Close'])\n",
        "plt.plot(valid[['Close', 'Predictions']])\n",
        " \n",
        "plt.legend(['Train', 'Val', 'Predictions'], loc='lower right')\n",
        " \n",
        "plt.show()"
      ],
      "metadata": {
        "id": "azUcHLbjPDpZ"
      },
      "execution_count": null,
      "outputs": []
    },
    {
      "cell_type": "code",
      "source": [
        "table = pd.DataFrame(data=valid, columns=['Close','Predictions'])\n",
        "table"
      ],
      "metadata": {
        "id": "O1rWlA3hPIiz"
      },
      "execution_count": null,
      "outputs": []
    }
  ]
}